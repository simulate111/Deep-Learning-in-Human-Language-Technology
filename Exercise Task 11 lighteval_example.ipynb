{
  "nbformat": 4,
  "nbformat_minor": 0,
  "metadata": {
    "colab": {
      "provenance": [],
      "gpuType": "T4",
      "include_colab_link": true
    },
    "kernelspec": {
      "name": "python3",
      "display_name": "Python 3"
    },
    "language_info": {
      "name": "python"
    },
    "accelerator": "GPU"
  },
  "cells": [
    {
      "cell_type": "markdown",
      "metadata": {
        "id": "view-in-github",
        "colab_type": "text"
      },
      "source": [
        "<a href=\"https://colab.research.google.com/github/simulate111/Deep-Learning-in-Human-Language-Technology/blob/main/Exercise%20Task%2011%20lighteval_example.ipynb\" target=\"_parent\"><img src=\"https://colab.research.google.com/assets/colab-badge.svg\" alt=\"Open In Colab\"/></a>"
      ]
    },
    {
      "cell_type": "markdown",
      "source": [
        "## Lighteval example\n",
        "\n",
        "Install the [`lighteval`](https://github.com/huggingface/lighteval) package."
      ],
      "metadata": {
        "id": "kafzPuEgw95d"
      }
    },
    {
      "cell_type": "code",
      "execution_count": null,
      "metadata": {
        "id": "SYUoPrpwbc-S"
      },
      "outputs": [],
      "source": [
        "!pip install --quiet lighteval"
      ]
    },
    {
      "cell_type": "markdown",
      "source": [
        "Run evaluation using the small [`gpt2`](https://huggingface.co/gpt2) model and the [ARC challenge](https://paperswithcode.com/dataset/arc) task in a zero-shot setting.\n",
        "\n",
        "The format of the `--tasks` argument is\n",
        "\n",
        "```suite|task|few_shot|truncate_few_shots```\n",
        "\n",
        "Where supported `suite|task` values are given in the [list of available tasks](https://github.com/huggingface/lighteval/wiki/Available-Tasks), and `few_shot` specifies the number of shots for few-shot prompting. (The argument `truncate_few_shots` can be ignored here).\n",
        "\n",
        "The evaluation result for the accuracy metric can be found toward the end of the output on the `leaderboard:arc:challenge:0 ... acc` line as well as in a JSON file in the `evals` directory after execution."
      ],
      "metadata": {
        "id": "2JhGAt77yAMN"
      }
    },
    {
      "cell_type": "markdown",
      "source": [
        "1) Evaluate the small gpt2 model in zero-, one- and five-shot settings on the ARC challenge task"
      ],
      "metadata": {
        "id": "qsrtvYCbQCGo"
      }
    },
    {
      "cell_type": "markdown",
      "source": [
        "Zero-shot"
      ],
      "metadata": {
        "id": "pD59U4Y4QC2t"
      }
    },
    {
      "cell_type": "code",
      "source": [
        "!lighteval accelerate \\\n",
        "    --model_args \"pretrained=gpt2\" \\\n",
        "    --tasks \"leaderboard|arc:challenge|0|0\" \\\n",
        "    --override_batch_size 1 \\\n",
        "    --output_dir=\"./evals/\""
      ],
      "metadata": {
        "id": "00ZWF1MZbiug"
      },
      "execution_count": null,
      "outputs": []
    },
    {
      "cell_type": "markdown",
      "source": [
        "One-shot"
      ],
      "metadata": {
        "id": "JFAZbKDqQFAO"
      }
    },
    {
      "cell_type": "code",
      "source": [
        "!lighteval accelerate \\\n",
        "    --model_args \"pretrained=gpt2\" \\\n",
        "    --tasks \"leaderboard|arc:challenge|1|0\" \\\n",
        "    --override_batch_size 1 \\\n",
        "    --output_dir=\"./evals/\""
      ],
      "metadata": {
        "id": "6PdmPOZKQSOS"
      },
      "execution_count": null,
      "outputs": []
    },
    {
      "cell_type": "markdown",
      "source": [
        "Five-shot"
      ],
      "metadata": {
        "id": "7Iu-H9WfQGmH"
      }
    },
    {
      "cell_type": "code",
      "source": [
        "!lighteval accelerate \\\n",
        "    --model_args \"pretrained=gpt2\" \\\n",
        "    --tasks \"leaderboard|arc:challenge|5|0\" \\\n",
        "    --override_batch_size 1 \\\n",
        "    --output_dir=\"./evals/\""
      ],
      "metadata": {
        "id": "p5kUluLdQSzM"
      },
      "execution_count": null,
      "outputs": []
    },
    {
      "cell_type": "markdown",
      "source": [
        "2) Evaluate a larger, more modern model such as allenai/OLMo-1B-hf in zero-, one- and five-shot settings on the ARC challenge task."
      ],
      "metadata": {
        "id": "6PiOawDkQNwJ"
      }
    },
    {
      "cell_type": "markdown",
      "source": [
        "Zero-shot"
      ],
      "metadata": {
        "id": "mzWM3LidQJDO"
      }
    },
    {
      "cell_type": "code",
      "source": [
        "!lighteval accelerate \\\n",
        "    --model_args \"pretrained=gpt2\" \\\n",
        "    --tasks \"leaderboard|arc:challenge|0|0\" \\\n",
        "    --override_batch_size 1 \\\n",
        "    --output_dir=\"./evals/\""
      ],
      "metadata": {
        "id": "oQbv-iZMQVsp"
      },
      "execution_count": null,
      "outputs": []
    },
    {
      "cell_type": "markdown",
      "source": [
        "One-shot"
      ],
      "metadata": {
        "id": "jxYpJ5BOQJhU"
      }
    },
    {
      "cell_type": "code",
      "source": [
        "!lighteval accelerate \\\n",
        "    --model_args \"pretrained=gpt2\" \\\n",
        "    --tasks \"leaderboard|arc:challenge|1|0\" \\\n",
        "    --override_batch_size 1 \\\n",
        "    --output_dir=\"./evals/\""
      ],
      "metadata": {
        "id": "zWIcuJSeQWnW"
      },
      "execution_count": null,
      "outputs": []
    },
    {
      "cell_type": "markdown",
      "source": [
        "Five-shot"
      ],
      "metadata": {
        "id": "C65y0ipGQIU4"
      }
    },
    {
      "cell_type": "code",
      "source": [
        "!lighteval accelerate \\\n",
        "    --model_args \"pretrained=gpt2\" \\\n",
        "    --tasks \"leaderboard|arc:challenge|5|0\" \\\n",
        "    --override_batch_size 1 \\\n",
        "    --output_dir=\"./evals/\""
      ],
      "metadata": {
        "id": "dibh_K4uQWGz"
      },
      "execution_count": null,
      "outputs": []
    },
    {
      "cell_type": "markdown",
      "source": [
        "a) how the gpt2 results relate to the random baseline and what this implies about the model\n",
        "\n"
      ],
      "metadata": {
        "id": "H-Twd8zkP-AO"
      }
    },
    {
      "cell_type": "markdown",
      "source": [
        "b) what the results for the larger model indicate about the effectiveness of few-shot prompting\n",
        "\n"
      ],
      "metadata": {
        "id": "5ey2Y2KKP--J"
      }
    },
    {
      "cell_type": "markdown",
      "source": [
        "c) how the results for the larger model relate to the state of the art (best reported results) in the task"
      ],
      "metadata": {
        "id": "zgVCm-41P_5p"
      }
    }
  ]
}