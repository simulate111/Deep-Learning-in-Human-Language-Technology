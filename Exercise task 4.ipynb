{
  "nbformat": 4,
  "nbformat_minor": 0,
  "metadata": {
    "colab": {
      "provenance": [],
      "authorship_tag": "ABX9TyMiY0hhEZf7Sjj5nfKI7TKl",
      "include_colab_link": true
    },
    "kernelspec": {
      "name": "python3",
      "display_name": "Python 3"
    },
    "language_info": {
      "name": "python"
    }
  },
  "cells": [
    {
      "cell_type": "markdown",
      "metadata": {
        "id": "view-in-github",
        "colab_type": "text"
      },
      "source": [
        "<a href=\"https://colab.research.google.com/github/simulate111/Deep-Learning-in-Human-Language-Technology/blob/main/Exercise%20task%204.ipynb\" target=\"_parent\"><img src=\"https://colab.research.google.com/assets/colab-badge.svg\" alt=\"Open In Colab\"/></a>"
      ]
    },
    {
      "cell_type": "code",
      "execution_count": null,
      "metadata": {
        "id": "IHS7c0JW4D_W"
      },
      "outputs": [],
      "source": []
    },
    {
      "cell_type": "markdown",
      "source": [
        "Different hyper parameters have been studied to investigate their effect on the model accuracy. Due to the lack of resources, only some parameters have been scrunitized.\n",
        "\n",
        "learninf rate in CNN: as th elearning rate decrease, the accuracy decline too.\n",
        "lr: 0.01 -> 0,75\n",
        "lr: 0,001 ->0,66\n",
        "lr: 0,0001 ->0,55\n",
        "\n",
        "for rnn, it fluctuate a little-\n",
        "lr: 0.01 -> 0,5\n",
        "lr: 0,001 ->0,57\n",
        "lr: 0,0001 ->0,52\n",
        "\n",
        "\n",
        "Regarding cnn: per device train batch increase will improve th eaccuracy.\n",
        "4->0,66\n",
        "8->0,66\n",
        "16->0,7\n",
        "\n",
        "\n",
        "max step also contribute to the higher accuracy in RNN:\n",
        "1500->0,51\n",
        "2500->0.57\n",
        "5000->0.59\n",
        "\n",
        "\n",
        "filter size in CNN: it also contributes to the accuracy.\n",
        "3->0,66\n",
        "5->0,68\n",
        "\n",
        "number of filter in CNN, which lead to the higher accuracy.\n",
        "10->,66\n",
        "20->0,7\n",
        "\n",
        "embedding dimension in RNN: it will improve the accuracy by raising the dimension.\n",
        "32->0,51\n",
        "64->0,57\n",
        "128->0,58\n",
        "\n",
        "\n",
        "Finally, two non linearity are examined: Therefore, the appropriate selection of non linearity function is essential to achieve better accuracy.\n",
        "tanh->0,57\n",
        "relu->0,51"
      ],
      "metadata": {
        "id": "bV-S_bHX4KFu"
      }
    }
  ]
}