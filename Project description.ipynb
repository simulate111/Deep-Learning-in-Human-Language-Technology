{
  "nbformat": 4,
  "nbformat_minor": 0,
  "metadata": {
    "colab": {
      "provenance": [],
      "authorship_tag": "ABX9TyO6Waa8E7d6G0vewZSq+BJu",
      "include_colab_link": true
    },
    "kernelspec": {
      "name": "python3",
      "display_name": "Python 3"
    },
    "language_info": {
      "name": "python"
    }
  },
  "cells": [
    {
      "cell_type": "markdown",
      "metadata": {
        "id": "view-in-github",
        "colab_type": "text"
      },
      "source": [
        "<a href=\"https://colab.research.google.com/github/simulate111/Deep-Learning-in-Human-Language-Technology/blob/main/Project%20description.ipynb\" target=\"_parent\"><img src=\"https://colab.research.google.com/assets/colab-badge.svg\" alt=\"Open In Colab\"/></a>"
      ]
    },
    {
      "cell_type": "code",
      "execution_count": null,
      "metadata": {
        "colab": {
          "base_uri": "https://localhost:8080/"
        },
        "id": "_Z8oVSAOPV98",
        "outputId": "ebdfe007-dc08-4c3c-8e96-66972f2a6831"
      },
      "outputs": [
        {
          "output_type": "stream",
          "name": "stdout",
          "text": [
            "Cloning into 'Deep_Learning_in_LangTech_course'...\n",
            "remote: Enumerating objects: 881, done.\u001b[K\n",
            "remote: Counting objects: 100% (162/162), done.\u001b[K\n",
            "remote: Compressing objects: 100% (143/143), done.\u001b[K\n",
            "remote: Total 881 (delta 97), reused 24 (delta 19), pack-reused 719 (from 1)\u001b[K\n",
            "Receiving objects: 100% (881/881), 119.55 MiB | 16.08 MiB/s, done.\n",
            "Resolving deltas: 100% (464/464), done.\n",
            "Updating files: 100% (129/129), done.\n"
          ]
        }
      ],
      "source": [
        "!git clone https://github.com/TurkuNLP/Deep_Learning_in_LangTech_course.git\n"
      ]
    },
    {
      "cell_type": "code",
      "source": [],
      "metadata": {
        "id": "REB3XQdbSfSz"
      },
      "execution_count": null,
      "outputs": []
    },
    {
      "cell_type": "code",
      "source": [],
      "metadata": {
        "id": "LSjbTXp4SfXK"
      },
      "execution_count": null,
      "outputs": []
    },
    {
      "cell_type": "code",
      "source": [
        "%cd Deep_Learning_in_LangTech_course\n"
      ],
      "metadata": {
        "colab": {
          "base_uri": "https://localhost:8080/"
        },
        "id": "OWoOtGsRSHrX",
        "outputId": "d40cbbca-3ab7-48d4-9505-f4092db6ec9f"
      },
      "execution_count": null,
      "outputs": [
        {
          "output_type": "stream",
          "name": "stdout",
          "text": [
            "/content/Deep_Learning_in_LangTech_course\n"
          ]
        }
      ]
    },
    {
      "cell_type": "code",
      "source": [
        "!cat course-project.md\n"
      ],
      "metadata": {
        "colab": {
          "base_uri": "https://localhost:8080/"
        },
        "id": "X30efkS7SJuI",
        "outputId": "6c59bc06-0abb-4c33-dad3-b234d3d8b817"
      },
      "execution_count": null,
      "outputs": [
        {
          "output_type": "stream",
          "name": "stdout",
          "text": [
            "# Course project\n",
            "\n",
            "To complete the course, successful completion of the project described here is required (basic project outline). A project successfully completed with the bonus task gives +1 to grade, however, this will not lift your grade from fail to pass.\n",
            "\n",
            "Use [this template](course_project_template.ipynb) for your project.\n",
            "\n",
            "## Group work\n",
            "\n",
            "The project can be completed either individually or as a group of two people. Group projects have some additional requirements; see below.\n",
            "\n",
            "## Basic project outline\n",
            "\n",
            "The project involves creating a transformer-based classifier for a multilingual text classification task. Specifically, you should\n",
            "\n",
            "1. Select a multilingual text classification corpus to work on. (see below)\n",
            "2. Read the paper presenting the corpus as well as any other relevant published materials about the corpus to assure you understand the data.\n",
            "3. Identify what is the random baseline performance (select the label randomly) as well as expected performance for recent machine learned models for this corpus. The paper describing the data may help you here.\n",
            "4. Write code to\n",
            "\t1. download the corpus\n",
            "\t2. perform any necessary sampling and preprocessing (see below)\n",
            "\t3. train a transformer-based classifier on the **English** training set, evaluating performance on the **English** validation set\n",
            "\t4. perform hyperparameter optimization\n",
            "\t5. evaluate your final model on the **English** test set\n",
            "\t6. perform zero-shot cross-lingual transfer experiments (see below)\n",
            "5. Write a summary of\n",
            "\t1. what you learned about the corpus\n",
            "\t2. your results\n",
            "\t3. how your results relate to the state of the art (i.e. the best published results) / expected performance\n",
            "\t4. if completed as a group project, a section detailing who did what on some level of detail\n",
            "\n",
            "### Multilingual text classification corpora\n",
            "\n",
            "We suggest the following corpora to work on. (If you'd prefer to suggest any other multilingual text classification corpus, get in touch with us on Discord!)\n",
            "\n",
            "* **Corpus name:** [mteb/amazon_reviews_multi](https://huggingface.co/datasets/mteb/amazon_reviews_multi)\n",
            "* **Labels:** Star rating 1–5\n",
            "* **Languages:** English, German, Spanish, French, Japanese, Chinese\n",
            "* **Subset sizes (per language):** train:200K, validation:5K, test:5K\n",
            "* **Description:** Amazon product reviews dataset for multilingual text classification. In this version of the dataset, each record contains the id (including the language information), the combined title and review text, and the star rating. The corpus is balanced across stars, so each star rating constitutes 20% of the reviews in each language. More information in the [paper](https://aclanthology.org/2020.emnlp-main.369/).\n",
            "\n",
            "**Note:** The original [paper](https://aclanthology.org/2020.emnlp-main.369/) suggest using mean absolute error (MAE) instead of classification accuracy for this task to account for the ordinal nature of the ratings. However, **you can treat this as a standard classification task with five labels and measure classification accuracy.**\n",
            "\n",
            "### Sampling\n",
            "\n",
            "You are free to downsample the training and validation data in case training with the full dataset becomes too heavy. Describe the corpus statistics (especially label distribution) after sampling in order to demonstrate that the sampling is done reasonably.\n",
            "\n",
            "### Zero-shot cross-lingual transfer experiments\n",
            "\n",
            "The idea of the cross-lingual experiments is to simulate the situation of *I would like to have a sentiment classifier for a language but I don't have any training data for that language*. In this case, the zero-shot cross-lingual transfer is an option.\n",
            "\n",
            "Report at least the following cross-lingual experiments:\n",
            "  1. Train on English --> Evaluate on English (baseline).\n",
            "  2. Train on at least one language other than English --> Evaluate on English (zero-shot cross-lingual transfer), compare with the baseline results. You can also mix several non-English languages in your training data if you wish.\n",
            "\n",
            "Remember to use a multilingual pre-trained language model in cross-lingual experiments. You can use for example [`xlm-roberta-base`](https://huggingface.co/xlm-roberta-base) or [`bert-base-multilingual-cased`](https://huggingface.co/bert-base-multilingual-cased).\n",
            "\n",
            "## Bonus task: Zero-shot with a generative language model\n",
            "\n",
            "As an optional bonus task, you may also do the following. Completing this bonus task in addition to the basic project gives +1 to your grade. Note that if you are doing the project as a group of two people, there is an additional requirement in the bonus task (part 6).\n",
            "\n",
            "The bonus task involves testing an alternative approach to zero-shot transfer. In here, the task is to prompt an existing conversational/chat/instruction fine-tuned generative model to do the classification, i.e. to generate the correct label for the given example.\n",
            "\n",
            "This involves the following basic structure:\n",
            "  1. Select a reasonable generative model to work on. Preferably, the model should be somehow instruction fine-tuned (instruct, chat, conversation). Keep in mind that Colab has somewhat limited resources, so pay attention to model sizes. You can use e.g. [mistralai/Mistral-7B-Instruct-v0.2](https://huggingface.co/mistralai/Mistral-7B-Instruct-v0.2), [meta-llama/Meta-Llama-3.1-8B-Instruct](https://huggingface.co/meta-llama/Meta-Llama-3.1-8B-Instruct), or any other suitable model.\n",
            "  2. Downsample the test data if needed (e.g. 500-1000 examples should already be enough to estimate the performance). Run the baseline monolingual classifier and the zero-shot classifier for the downsampled test data to get reference results.\n",
            "  3. Write a prompt which communicates the task to the model. In the prompt, you should at least communicate the classification task (and its labels), the expected input and output data format, and the input text to be labeled. You should try several different prompts to get optimal results. For more instructions, see for example [this tutorial](https://huggingface.co/docs/transformers/tasks/prompting).\n",
            "  4. Write code to feed the examples to the model, and extract the model predicted labels from the generated output.\n",
            "  5. Calculate accuracy and compare it with the previous results (classifier baseline, classifier based zero-shot cross-lingual transfer).\n",
            "  6. **For group projects only:** Make a detailed error analysis where you compare the two zero-shot approaches (classifier, generative). How many examples (a) both predicted correctly, (b) both got wrong, (c) the classifier predicted correctly but the generative model wrong, and (d) the generative model predicted correctly but the classifier wrong. If a prediction from the generative model was incorrect, was it because it failed to generate any label (e.g. unsystematic output format) or it generated a label but the label was not correct?\n",
            "\n",
            "Notes:\n",
            "* In able to run a generative model in Colab, model quantization is recommended. See [documentation](https://huggingface.co/docs/accelerate/usage_guides/quantization) and [an example notebook](https://github.com/TurkuNLP/intro-to-nlp/blob/master/text_generation_pipeline_conversational.ipynb).\n",
            "* Some models require authentication: You need to create a HuggingFace account and accept *terms and conditions* to be able to use these models. \n",
            "\n",
            "## Returning your project\n",
            "\n",
            "Return your project as a Python notebook (following [this template](course_project_template.ipynb)) that includes both execution results and the descriptions detailed above.\n"
          ]
        }
      ]
    },
    {
      "cell_type": "code",
      "source": [],
      "metadata": {
        "id": "u-bpPgVkSgY5"
      },
      "execution_count": null,
      "outputs": []
    },
    {
      "cell_type": "code",
      "source": [
        "!wget https://raw.githubusercontent.com/TurkuNLP/Deep_Learning_in_LangTech_course/refs/heads/master/course-project.md\n"
      ],
      "metadata": {
        "id": "32YW64vMSgbs",
        "outputId": "02cb6050-5648-41f6-afb1-c373e63642f1",
        "colab": {
          "base_uri": "https://localhost:8080/"
        }
      },
      "execution_count": 1,
      "outputs": [
        {
          "output_type": "stream",
          "name": "stdout",
          "text": [
            "--2024-10-18 11:01:38--  https://raw.githubusercontent.com/TurkuNLP/Deep_Learning_in_LangTech_course/refs/heads/master/course-project.md\n",
            "Resolving raw.githubusercontent.com (raw.githubusercontent.com)... 185.199.108.133, 185.199.109.133, 185.199.110.133, ...\n",
            "Connecting to raw.githubusercontent.com (raw.githubusercontent.com)|185.199.108.133|:443... connected.\n",
            "HTTP request sent, awaiting response... 200 OK\n",
            "Length: 7429 (7.3K) [text/plain]\n",
            "Saving to: ‘course-project.md’\n",
            "\n",
            "\rcourse-project.md     0%[                    ]       0  --.-KB/s               \rcourse-project.md   100%[===================>]   7.25K  --.-KB/s    in 0s      \n",
            "\n",
            "2024-10-18 11:01:38 (49.3 MB/s) - ‘course-project.md’ saved [7429/7429]\n",
            "\n"
          ]
        }
      ]
    },
    {
      "cell_type": "code",
      "source": [
        "!cat course-project.md\n"
      ],
      "metadata": {
        "id": "gURXiw7zSjK1",
        "outputId": "44643ad4-4e6f-41b4-e4af-7c42aadf63e4",
        "colab": {
          "base_uri": "https://localhost:8080/"
        }
      },
      "execution_count": 2,
      "outputs": [
        {
          "output_type": "stream",
          "name": "stdout",
          "text": [
            "# Course project\n",
            "\n",
            "To complete the course, successful completion of the project described here is required (basic project outline). A project successfully completed with the bonus task gives +1 to grade, however, this will not lift your grade from fail to pass.\n",
            "\n",
            "Use [this template](course_project_template.ipynb) for your project.\n",
            "\n",
            "## Group work\n",
            "\n",
            "The project can be completed either individually or as a group of two people. Group projects have some additional requirements; see below.\n",
            "\n",
            "## Basic project outline\n",
            "\n",
            "The project involves creating a transformer-based classifier for a multilingual text classification task. Specifically, you should\n",
            "\n",
            "1. Select a multilingual text classification corpus to work on. (see below)\n",
            "2. Read the paper presenting the corpus as well as any other relevant published materials about the corpus to assure you understand the data.\n",
            "3. Identify what is the random baseline performance (select the label randomly) as well as expected performance for recent machine learned models for this corpus. The paper describing the data may help you here.\n",
            "4. Write code to\n",
            "\t1. download the corpus\n",
            "\t2. perform any necessary sampling and preprocessing (see below)\n",
            "\t3. train a transformer-based classifier on the **English** training set, evaluating performance on the **English** validation set\n",
            "\t4. perform hyperparameter optimization\n",
            "\t5. evaluate your final model on the **English** test set\n",
            "\t6. perform zero-shot cross-lingual transfer experiments (see below)\n",
            "5. Write a summary of\n",
            "\t1. what you learned about the corpus\n",
            "\t2. your results\n",
            "\t3. how your results relate to the state of the art (i.e. the best published results) / expected performance\n",
            "\t4. if completed as a group project, a section detailing who did what on some level of detail\n",
            "\n",
            "### Multilingual text classification corpora\n",
            "\n",
            "We suggest the following corpora to work on. (If you'd prefer to suggest any other multilingual text classification corpus, get in touch with us on Discord!)\n",
            "\n",
            "* **Corpus name:** [mteb/amazon_reviews_multi](https://huggingface.co/datasets/mteb/amazon_reviews_multi)\n",
            "* **Labels:** Star rating 1–5\n",
            "* **Languages:** English, German, Spanish, French, Japanese, Chinese\n",
            "* **Subset sizes (per language):** train:200K, validation:5K, test:5K\n",
            "* **Description:** Amazon product reviews dataset for multilingual text classification. In this version of the dataset, each record contains the id (including the language information), the combined title and review text, and the star rating. The corpus is balanced across stars, so each star rating constitutes 20% of the reviews in each language. More information in the [paper](https://aclanthology.org/2020.emnlp-main.369/).\n",
            "\n",
            "**Note:** The original [paper](https://aclanthology.org/2020.emnlp-main.369/) suggest using mean absolute error (MAE) instead of classification accuracy for this task to account for the ordinal nature of the ratings. However, **you can treat this as a standard classification task with five labels and measure classification accuracy.**\n",
            "\n",
            "### Sampling\n",
            "\n",
            "You are free to downsample the training and validation data in case training with the full dataset becomes too heavy. Describe the corpus statistics (especially label distribution) after sampling in order to demonstrate that the sampling is done reasonably.\n",
            "\n",
            "### Zero-shot cross-lingual transfer experiments\n",
            "\n",
            "The idea of the cross-lingual experiments is to simulate the situation of *I would like to have a sentiment classifier for a language but I don't have any training data for that language*. In this case, the zero-shot cross-lingual transfer is an option.\n",
            "\n",
            "Report at least the following cross-lingual experiments:\n",
            "  1. Train on English --> Evaluate on English (baseline).\n",
            "  2. Train on at least one language other than English --> Evaluate on English (zero-shot cross-lingual transfer), compare with the baseline results. You can also mix several non-English languages in your training data if you wish.\n",
            "\n",
            "Remember to use a multilingual pre-trained language model in cross-lingual experiments. You can use for example [`xlm-roberta-base`](https://huggingface.co/xlm-roberta-base) or [`bert-base-multilingual-cased`](https://huggingface.co/bert-base-multilingual-cased).\n",
            "\n",
            "## Bonus task: Zero-shot with a generative language model\n",
            "\n",
            "As an optional bonus task, you may also do the following. Completing this bonus task in addition to the basic project gives +1 to your grade. Note that if you are doing the project as a group of two people, there is an additional requirement in the bonus task (part 6).\n",
            "\n",
            "The bonus task involves testing an alternative approach to zero-shot transfer. In here, the task is to prompt an existing conversational/chat/instruction fine-tuned generative model to do the classification, i.e. to generate the correct label for the given example.\n",
            "\n",
            "This involves the following basic structure:\n",
            "  1. Select a reasonable generative model to work on. Preferably, the model should be somehow instruction fine-tuned (instruct, chat, conversation). Keep in mind that Colab has somewhat limited resources, so pay attention to model sizes. You can use e.g. [mistralai/Mistral-7B-Instruct-v0.2](https://huggingface.co/mistralai/Mistral-7B-Instruct-v0.2), [meta-llama/Meta-Llama-3.1-8B-Instruct](https://huggingface.co/meta-llama/Meta-Llama-3.1-8B-Instruct), or any other suitable model.\n",
            "  2. Downsample the test data if needed (e.g. 500-1000 examples should already be enough to estimate the performance). Run the baseline monolingual classifier and the zero-shot classifier for the downsampled test data to get reference results.\n",
            "  3. Write a prompt which communicates the task to the model. In the prompt, you should at least communicate the classification task (and its labels), the expected input and output data format, and the input text to be labeled. You should try several different prompts to get optimal results. For more instructions, see for example [this tutorial](https://huggingface.co/docs/transformers/tasks/prompting).\n",
            "  4. Write code to feed the examples to the model, and extract the model predicted labels from the generated output.\n",
            "  5. Calculate accuracy and compare it with the previous results (classifier baseline, classifier based zero-shot cross-lingual transfer).\n",
            "  6. **For group projects only:** Make a detailed error analysis where you compare the two zero-shot approaches (classifier, generative). How many examples (a) both predicted correctly, (b) both got wrong, (c) the classifier predicted correctly but the generative model wrong, and (d) the generative model predicted correctly but the classifier wrong. If a prediction from the generative model was incorrect, was it because it failed to generate any label (e.g. unsystematic output format) or it generated a label but the label was not correct?\n",
            "\n",
            "Notes:\n",
            "* In able to run a generative model in Colab, model quantization is recommended. See [documentation](https://huggingface.co/docs/accelerate/usage_guides/quantization) and [an example notebook](https://github.com/TurkuNLP/intro-to-nlp/blob/master/text_generation_pipeline_conversational.ipynb).\n",
            "* Some models require authentication: You need to create a HuggingFace account and accept *terms and conditions* to be able to use these models. \n",
            "\n",
            "## Returning your project\n",
            "\n",
            "Return your project as a Python notebook (following [this template](course_project_template.ipynb)) that includes both execution results and the descriptions detailed above.\n"
          ]
        }
      ]
    },
    {
      "cell_type": "code",
      "source": [
        "from IPython.display import Markdown, display\n",
        "\n",
        "with open(\"course-project.md\", \"r\") as file:\n",
        "    content = file.read()\n",
        "display(Markdown(content))\n"
      ],
      "metadata": {
        "id": "tPlIXxeOSjra",
        "outputId": "a5d856f4-5d43-48c8-ff5c-eff8dc095afd",
        "colab": {
          "base_uri": "https://localhost:8080/",
          "height": 1000
        }
      },
      "execution_count": 3,
      "outputs": [
        {
          "output_type": "display_data",
          "data": {
            "text/plain": [
              "<IPython.core.display.Markdown object>"
            ],
            "text/markdown": "# Course project\n\nTo complete the course, successful completion of the project described here is required (basic project outline). A project successfully completed with the bonus task gives +1 to grade, however, this will not lift your grade from fail to pass.\n\nUse [this template](course_project_template.ipynb) for your project.\n\n## Group work\n\nThe project can be completed either individually or as a group of two people. Group projects have some additional requirements; see below.\n\n## Basic project outline\n\nThe project involves creating a transformer-based classifier for a multilingual text classification task. Specifically, you should\n\n1. Select a multilingual text classification corpus to work on. (see below)\n2. Read the paper presenting the corpus as well as any other relevant published materials about the corpus to assure you understand the data.\n3. Identify what is the random baseline performance (select the label randomly) as well as expected performance for recent machine learned models for this corpus. The paper describing the data may help you here.\n4. Write code to\n\t1. download the corpus\n\t2. perform any necessary sampling and preprocessing (see below)\n\t3. train a transformer-based classifier on the **English** training set, evaluating performance on the **English** validation set\n\t4. perform hyperparameter optimization\n\t5. evaluate your final model on the **English** test set\n\t6. perform zero-shot cross-lingual transfer experiments (see below)\n5. Write a summary of\n\t1. what you learned about the corpus\n\t2. your results\n\t3. how your results relate to the state of the art (i.e. the best published results) / expected performance\n\t4. if completed as a group project, a section detailing who did what on some level of detail\n\n### Multilingual text classification corpora\n\nWe suggest the following corpora to work on. (If you'd prefer to suggest any other multilingual text classification corpus, get in touch with us on Discord!)\n\n* **Corpus name:** [mteb/amazon_reviews_multi](https://huggingface.co/datasets/mteb/amazon_reviews_multi)\n* **Labels:** Star rating 1–5\n* **Languages:** English, German, Spanish, French, Japanese, Chinese\n* **Subset sizes (per language):** train:200K, validation:5K, test:5K\n* **Description:** Amazon product reviews dataset for multilingual text classification. In this version of the dataset, each record contains the id (including the language information), the combined title and review text, and the star rating. The corpus is balanced across stars, so each star rating constitutes 20% of the reviews in each language. More information in the [paper](https://aclanthology.org/2020.emnlp-main.369/).\n\n**Note:** The original [paper](https://aclanthology.org/2020.emnlp-main.369/) suggest using mean absolute error (MAE) instead of classification accuracy for this task to account for the ordinal nature of the ratings. However, **you can treat this as a standard classification task with five labels and measure classification accuracy.**\n\n### Sampling\n\nYou are free to downsample the training and validation data in case training with the full dataset becomes too heavy. Describe the corpus statistics (especially label distribution) after sampling in order to demonstrate that the sampling is done reasonably.\n\n### Zero-shot cross-lingual transfer experiments\n\nThe idea of the cross-lingual experiments is to simulate the situation of *I would like to have a sentiment classifier for a language but I don't have any training data for that language*. In this case, the zero-shot cross-lingual transfer is an option.\n\nReport at least the following cross-lingual experiments:\n  1. Train on English --> Evaluate on English (baseline).\n  2. Train on at least one language other than English --> Evaluate on English (zero-shot cross-lingual transfer), compare with the baseline results. You can also mix several non-English languages in your training data if you wish.\n\nRemember to use a multilingual pre-trained language model in cross-lingual experiments. You can use for example [`xlm-roberta-base`](https://huggingface.co/xlm-roberta-base) or [`bert-base-multilingual-cased`](https://huggingface.co/bert-base-multilingual-cased).\n\n## Bonus task: Zero-shot with a generative language model\n\nAs an optional bonus task, you may also do the following. Completing this bonus task in addition to the basic project gives +1 to your grade. Note that if you are doing the project as a group of two people, there is an additional requirement in the bonus task (part 6).\n\nThe bonus task involves testing an alternative approach to zero-shot transfer. In here, the task is to prompt an existing conversational/chat/instruction fine-tuned generative model to do the classification, i.e. to generate the correct label for the given example.\n\nThis involves the following basic structure:\n  1. Select a reasonable generative model to work on. Preferably, the model should be somehow instruction fine-tuned (instruct, chat, conversation). Keep in mind that Colab has somewhat limited resources, so pay attention to model sizes. You can use e.g. [mistralai/Mistral-7B-Instruct-v0.2](https://huggingface.co/mistralai/Mistral-7B-Instruct-v0.2), [meta-llama/Meta-Llama-3.1-8B-Instruct](https://huggingface.co/meta-llama/Meta-Llama-3.1-8B-Instruct), or any other suitable model.\n  2. Downsample the test data if needed (e.g. 500-1000 examples should already be enough to estimate the performance). Run the baseline monolingual classifier and the zero-shot classifier for the downsampled test data to get reference results.\n  3. Write a prompt which communicates the task to the model. In the prompt, you should at least communicate the classification task (and its labels), the expected input and output data format, and the input text to be labeled. You should try several different prompts to get optimal results. For more instructions, see for example [this tutorial](https://huggingface.co/docs/transformers/tasks/prompting).\n  4. Write code to feed the examples to the model, and extract the model predicted labels from the generated output.\n  5. Calculate accuracy and compare it with the previous results (classifier baseline, classifier based zero-shot cross-lingual transfer).\n  6. **For group projects only:** Make a detailed error analysis where you compare the two zero-shot approaches (classifier, generative). How many examples (a) both predicted correctly, (b) both got wrong, (c) the classifier predicted correctly but the generative model wrong, and (d) the generative model predicted correctly but the classifier wrong. If a prediction from the generative model was incorrect, was it because it failed to generate any label (e.g. unsystematic output format) or it generated a label but the label was not correct?\n\nNotes:\n* In able to run a generative model in Colab, model quantization is recommended. See [documentation](https://huggingface.co/docs/accelerate/usage_guides/quantization) and [an example notebook](https://github.com/TurkuNLP/intro-to-nlp/blob/master/text_generation_pipeline_conversational.ipynb).\n* Some models require authentication: You need to create a HuggingFace account and accept *terms and conditions* to be able to use these models. \n\n## Returning your project\n\nReturn your project as a Python notebook (following [this template](course_project_template.ipynb)) that includes both execution results and the descriptions detailed above.\n"
          },
          "metadata": {}
        }
      ]
    },
    {
      "cell_type": "code",
      "source": [],
      "metadata": {
        "id": "e_wcxvoLSm1f"
      },
      "execution_count": null,
      "outputs": []
    }
  ]
}